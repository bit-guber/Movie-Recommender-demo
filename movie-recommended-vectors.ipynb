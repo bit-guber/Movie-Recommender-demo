{
 "cells": [
  {
   "cell_type": "markdown",
   "id": "96947437",
   "metadata": {
    "papermill": {
     "duration": 0.003919,
     "end_time": "2023-11-03T04:58:51.011904",
     "exception": false,
     "start_time": "2023-11-03T04:58:51.007985",
     "status": "completed"
    },
    "tags": []
   },
   "source": [
    "# Acquire Grouplens movies Dataset\n",
    "#### from grouplens websites [here](https://grouplens.org/datasets/movielens/latest/)"
   ]
  },
  {
   "cell_type": "code",
   "execution_count": 1,
   "id": "9962763f",
   "metadata": {
    "execution": {
     "iopub.execute_input": "2023-11-03T04:58:51.022229Z",
     "iopub.status.busy": "2023-11-03T04:58:51.021842Z",
     "iopub.status.idle": "2023-11-03T04:59:15.060888Z",
     "shell.execute_reply": "2023-11-03T04:59:15.059437Z"
    },
    "papermill": {
     "duration": 24.046169,
     "end_time": "2023-11-03T04:59:15.063413",
     "exception": false,
     "start_time": "2023-11-03T04:58:51.017244",
     "status": "completed"
    },
    "tags": []
   },
   "outputs": [
    {
     "name": "stdout",
     "output_type": "stream",
     "text": [
      "Archive:  dataset.zip\r\n",
      "   creating: ml-latest/\r\n",
      "  inflating: ml-latest/tags.csv      \r\n",
      "  inflating: ml-latest/links.csv     \r\n",
      "  inflating: ml-latest/README.txt    \r\n",
      "  inflating: ml-latest/ratings.csv   \r\n",
      "  inflating: ml-latest/genome-tags.csv  \r\n",
      "  inflating: ml-latest/genome-scores.csv  \r\n",
      "  inflating: ml-latest/movies.csv    \r\n"
     ]
    }
   ],
   "source": [
    "import urllib.request\n",
    "urllib.request.urlretrieve(\"https://files.grouplens.org/datasets/movielens/ml-latest.zip\", \"dataset.zip\") # download file from url\n",
    "!unzip dataset.zip # extract files from zipfile"
   ]
  },
  {
   "cell_type": "markdown",
   "id": "7f542139",
   "metadata": {
    "papermill": {
     "duration": 0.003325,
     "end_time": "2023-11-03T04:59:15.070985",
     "exception": false,
     "start_time": "2023-11-03T04:59:15.067660",
     "status": "completed"
    },
    "tags": []
   },
   "source": [
    "#### Import necessary packages"
   ]
  },
  {
   "cell_type": "code",
   "execution_count": 2,
   "id": "aa7f4471",
   "metadata": {
    "execution": {
     "iopub.execute_input": "2023-11-03T04:59:15.079465Z",
     "iopub.status.busy": "2023-11-03T04:59:15.079144Z",
     "iopub.status.idle": "2023-11-03T04:59:15.915975Z",
     "shell.execute_reply": "2023-11-03T04:59:15.914603Z"
    },
    "papermill": {
     "duration": 0.843861,
     "end_time": "2023-11-03T04:59:15.918294",
     "exception": false,
     "start_time": "2023-11-03T04:59:15.074433",
     "status": "completed"
    },
    "tags": []
   },
   "outputs": [],
   "source": [
    "import pandas as pd\n",
    "import numpy as np\n",
    "from surprise import Reader, Dataset, SVD\n",
    "dataset_path = \"ml-latest/\"\n",
    "import warnings; warnings.simplefilter('ignore')"
   ]
  },
  {
   "cell_type": "code",
   "execution_count": 3,
   "id": "5a696e36",
   "metadata": {
    "execution": {
     "iopub.execute_input": "2023-11-03T04:59:15.927150Z",
     "iopub.status.busy": "2023-11-03T04:59:15.926718Z",
     "iopub.status.idle": "2023-11-03T04:59:23.003581Z",
     "shell.execute_reply": "2023-11-03T04:59:23.002696Z"
    },
    "papermill": {
     "duration": 7.083658,
     "end_time": "2023-11-03T04:59:23.005810",
     "exception": false,
     "start_time": "2023-11-03T04:59:15.922152",
     "status": "completed"
    },
    "tags": []
   },
   "outputs": [
    {
     "data": {
      "text/html": [
       "<div>\n",
       "<style scoped>\n",
       "    .dataframe tbody tr th:only-of-type {\n",
       "        vertical-align: middle;\n",
       "    }\n",
       "\n",
       "    .dataframe tbody tr th {\n",
       "        vertical-align: top;\n",
       "    }\n",
       "\n",
       "    .dataframe thead th {\n",
       "        text-align: right;\n",
       "    }\n",
       "</style>\n",
       "<table border=\"1\" class=\"dataframe\">\n",
       "  <thead>\n",
       "    <tr style=\"text-align: right;\">\n",
       "      <th></th>\n",
       "      <th>userId</th>\n",
       "      <th>movieId</th>\n",
       "      <th>rating</th>\n",
       "    </tr>\n",
       "  </thead>\n",
       "  <tbody>\n",
       "    <tr>\n",
       "      <th>0</th>\n",
       "      <td>1</td>\n",
       "      <td>1</td>\n",
       "      <td>4.0</td>\n",
       "    </tr>\n",
       "    <tr>\n",
       "      <th>1</th>\n",
       "      <td>1</td>\n",
       "      <td>110</td>\n",
       "      <td>4.0</td>\n",
       "    </tr>\n",
       "    <tr>\n",
       "      <th>2</th>\n",
       "      <td>1</td>\n",
       "      <td>158</td>\n",
       "      <td>4.0</td>\n",
       "    </tr>\n",
       "    <tr>\n",
       "      <th>3</th>\n",
       "      <td>1</td>\n",
       "      <td>260</td>\n",
       "      <td>4.5</td>\n",
       "    </tr>\n",
       "    <tr>\n",
       "      <th>4</th>\n",
       "      <td>1</td>\n",
       "      <td>356</td>\n",
       "      <td>5.0</td>\n",
       "    </tr>\n",
       "  </tbody>\n",
       "</table>\n",
       "</div>"
      ],
      "text/plain": [
       "   userId  movieId  rating\n",
       "0       1        1     4.0\n",
       "1       1      110     4.0\n",
       "2       1      158     4.0\n",
       "3       1      260     4.5\n",
       "4       1      356     5.0"
      ]
     },
     "execution_count": 3,
     "metadata": {},
     "output_type": "execute_result"
    }
   ],
   "source": [
    "reader = Reader() # for Data structure\n",
    "ratings = pd.read_csv(dataset_path+'ratings.csv', usecols=[ 'userId', \"movieId\", \"rating\" ])\n",
    "movies = pd.read_csv( dataset_path+\"/movies.csv\" ).set_index(\"movieId\")\n",
    "ratings.head()"
   ]
  },
  {
   "cell_type": "code",
   "execution_count": 4,
   "id": "8135ee0f",
   "metadata": {
    "execution": {
     "iopub.execute_input": "2023-11-03T04:59:23.015157Z",
     "iopub.status.busy": "2023-11-03T04:59:23.014858Z",
     "iopub.status.idle": "2023-11-03T04:59:56.663411Z",
     "shell.execute_reply": "2023-11-03T04:59:56.661941Z"
    },
    "papermill": {
     "duration": 33.656,
     "end_time": "2023-11-03T04:59:56.665917",
     "exception": false,
     "start_time": "2023-11-03T04:59:23.009917",
     "status": "completed"
    },
    "tags": []
   },
   "outputs": [],
   "source": [
    "data = Dataset.load_from_df(ratings[['userId', 'movieId', 'rating']], reader) "
   ]
  },
  {
   "cell_type": "markdown",
   "id": "732aa925",
   "metadata": {
    "papermill": {
     "duration": 0.003574,
     "end_time": "2023-11-03T04:59:56.673490",
     "exception": false,
     "start_time": "2023-11-03T04:59:56.669916",
     "status": "completed"
    },
    "tags": []
   },
   "source": [
    "#### Model Selection "
   ]
  },
  {
   "cell_type": "code",
   "execution_count": 5,
   "id": "354d5852",
   "metadata": {
    "execution": {
     "iopub.execute_input": "2023-11-03T04:59:56.682347Z",
     "iopub.status.busy": "2023-11-03T04:59:56.681987Z",
     "iopub.status.idle": "2023-11-03T05:46:04.021055Z",
     "shell.execute_reply": "2023-11-03T05:46:04.020038Z"
    },
    "papermill": {
     "duration": 2767.350539,
     "end_time": "2023-11-03T05:46:04.027693",
     "exception": false,
     "start_time": "2023-11-03T04:59:56.677154",
     "status": "completed"
    },
    "tags": []
   },
   "outputs": [
    {
     "name": "stdout",
     "output_type": "stream",
     "text": [
      "0.7901703773759757\n"
     ]
    }
   ],
   "source": [
    "from surprise.model_selection import cross_validate\n",
    "from surprise.prediction_algorithms import KNNBasic\n",
    "\n",
    "parameters ={\n",
    "        \"n_factors\":20, \"n_epochs\":20,\"reg_all\":0.005,\"random_state\":11\n",
    "    }\n",
    "# for i in [ 0.005, 0.006, 0.007, 0.008, 0.009, 0.01 ]:\n",
    "#     print(i)\n",
    "#     parameters[\"reg_all\"] = i\n",
    "\n",
    "svd = SVD(**parameters)\n",
    "print(cross_validate(svd, data,measures=['RMSE'], n_jobs = 1)['test_rmse'].mean())\n"
   ]
  },
  {
   "cell_type": "code",
   "execution_count": 6,
   "id": "af26a8cf",
   "metadata": {
    "execution": {
     "iopub.execute_input": "2023-11-03T05:46:04.037759Z",
     "iopub.status.busy": "2023-11-03T05:46:04.037386Z",
     "iopub.status.idle": "2023-11-03T05:49:42.208490Z",
     "shell.execute_reply": "2023-11-03T05:49:42.207334Z"
    },
    "papermill": {
     "duration": 218.182147,
     "end_time": "2023-11-03T05:49:42.213920",
     "exception": false,
     "start_time": "2023-11-03T05:46:04.031773",
     "status": "completed"
    },
    "tags": []
   },
   "outputs": [
    {
     "data": {
      "text/plain": [
       "<surprise.prediction_algorithms.matrix_factorization.SVD at 0x7a79cdc29d50>"
      ]
     },
     "execution_count": 6,
     "metadata": {},
     "output_type": "execute_result"
    }
   ],
   "source": [
    "svd = SVD(**parameters) # prediction model \n",
    "trainset = data.build_full_trainset() \n",
    "svd.fit(trainset)"
   ]
  },
  {
   "cell_type": "code",
   "execution_count": 7,
   "id": "584d818d",
   "metadata": {
    "execution": {
     "iopub.execute_input": "2023-11-03T05:49:42.223356Z",
     "iopub.status.busy": "2023-11-03T05:49:42.222971Z",
     "iopub.status.idle": "2023-11-03T05:49:49.463295Z",
     "shell.execute_reply": "2023-11-03T05:49:49.462420Z"
    },
    "papermill": {
     "duration": 7.247879,
     "end_time": "2023-11-03T05:49:49.465697",
     "exception": false,
     "start_time": "2023-11-03T05:49:42.217818",
     "status": "completed"
    },
    "tags": []
   },
   "outputs": [],
   "source": [
    "import json\n",
    "# movie dataset id to trained inner movie dataset index store\n",
    "with open( \"movie_id_to_vector_id.json\", \"w\" ) as f:\n",
    "    json.dump(trainset._raw2inner_id_items, f)\n",
    "\n",
    "# trained movies vector for prediction store\n",
    "np.save( \"movie_vectors.npy\", svd.qi.astype(np.float32) )\n",
    "\n",
    "# top movies based number of rating by\n",
    "top_movies = pd.read_csv( \"ml-latest/ratings.csv\", usecols=[ \"userId\", \"movieId\" ] )\n",
    "top_movies = top_movies.groupby( \"movieId\" ).count(  )\n",
    "top_movies = top_movies.sort_values(\"userId\", ascending=False).head( 100 ).index.values\n",
    "np.save( \"top_movies.npy\", top_movies.astype(np.int32) )"
   ]
  },
  {
   "cell_type": "code",
   "execution_count": null,
   "id": "0dc7617b",
   "metadata": {
    "papermill": {
     "duration": 0.003735,
     "end_time": "2023-11-03T05:49:49.473804",
     "exception": false,
     "start_time": "2023-11-03T05:49:49.470069",
     "status": "completed"
    },
    "tags": []
   },
   "outputs": [],
   "source": []
  },
  {
   "cell_type": "code",
   "execution_count": null,
   "id": "6cd14fc0",
   "metadata": {
    "papermill": {
     "duration": 0.00362,
     "end_time": "2023-11-03T05:49:49.481380",
     "exception": false,
     "start_time": "2023-11-03T05:49:49.477760",
     "status": "completed"
    },
    "tags": []
   },
   "outputs": [],
   "source": []
  },
  {
   "cell_type": "code",
   "execution_count": 8,
   "id": "654595c2",
   "metadata": {
    "execution": {
     "iopub.execute_input": "2023-11-03T05:49:49.490944Z",
     "iopub.status.busy": "2023-11-03T05:49:49.490532Z",
     "iopub.status.idle": "2023-11-03T05:49:49.997120Z",
     "shell.execute_reply": "2023-11-03T05:49:49.995941Z"
    },
    "papermill": {
     "duration": 0.514142,
     "end_time": "2023-11-03T05:49:49.999534",
     "exception": false,
     "start_time": "2023-11-03T05:49:49.485392",
     "status": "completed"
    },
    "tags": []
   },
   "outputs": [],
   "source": [
    "from scipy.spatial.distance import cosine\n",
    "\n",
    "import numpy as np\n",
    "import pandas as pd\n",
    "import json\n",
    "\n",
    "max_display_movies = 10\n",
    "movies = pd.read_csv( \"ml-latest/movies.csv\" ).set_index( \"movieId\" )\n",
    "vectors = np.load( \"movie_vectors.npy\" )\n",
    "mapping_id = None\n",
    "with open( \"movie_id_to_vector_id.json\", \"r\" ) as f:\n",
    "    mapping_id = { int(k):int(v) for k,v in json.load( f ).items()}\n",
    "top_movies = np.load( \"top_movies.npy\" )[:max_display_movies]\n",
    "\n",
    "reverse_mapping_id = { v:k for k, v in mapping_id.items() }\n",
    "\n",
    "\n",
    "def get_cosine_distance( target ):\n",
    "    distances = []\n",
    "    for x in vectors:\n",
    "        distances.append( cosine( target, x ) )\n",
    "    return np.array( distances )\n",
    "\n",
    "def get_list( viewed ):\n",
    "    if len(viewed) == 0:\n",
    "        return top_movies.tolist()\n",
    "    cummalate = np.zeros( vectors.shape[0], dtype = np.float32 )\n",
    "    viewed = [ mapping_id[x] for x in viewed ]\n",
    "    for target in viewed:\n",
    "        cummalate += get_cosine_distance( vectors[target]  )\n",
    "    viewed = set(viewed)\n",
    "    return [reverse_mapping_id[x] for x in np.argsort( cummalate ) if x not in viewed ][:max_display_movies]"
   ]
  },
  {
   "cell_type": "code",
   "execution_count": 9,
   "id": "d8470f3a",
   "metadata": {
    "execution": {
     "iopub.execute_input": "2023-11-03T05:49:50.009258Z",
     "iopub.status.busy": "2023-11-03T05:49:50.008921Z",
     "iopub.status.idle": "2023-11-03T05:49:55.595815Z",
     "shell.execute_reply": "2023-11-03T05:49:55.594522Z"
    },
    "papermill": {
     "duration": 5.594498,
     "end_time": "2023-11-03T05:49:55.598328",
     "exception": false,
     "start_time": "2023-11-03T05:49:50.003830",
     "status": "completed"
    },
    "tags": []
   },
   "outputs": [
    {
     "data": {
      "text/plain": [
       "[title                           Monsters, Inc. (2001)\n",
       " genres    Adventure|Animation|Children|Comedy|Fantasy\n",
       " Name: 4886, dtype: object,\n",
       " title                              Toy Story 2 (1999)\n",
       " genres    Adventure|Animation|Children|Comedy|Fantasy\n",
       " Name: 3114, dtype: object,\n",
       " title           Ratatouille (2007)\n",
       " genres    Animation|Children|Drama\n",
       " Name: 50872, dtype: object,\n",
       " title                                   Toy Story 3 (2010)\n",
       " genres    Adventure|Animation|Children|Comedy|Fantasy|IMAX\n",
       " Name: 78499, dtype: object,\n",
       " title                    Bug's Life, A (1998)\n",
       " genres    Adventure|Animation|Children|Comedy\n",
       " Name: 2355, dtype: object,\n",
       " title                              Up (2009)\n",
       " genres    Adventure|Animation|Children|Drama\n",
       " Name: 68954, dtype: object,\n",
       " title                        Incredibles, The (2004)\n",
       " genres    Action|Adventure|Animation|Children|Comedy\n",
       " Name: 8961, dtype: object,\n",
       " title                  Partly Cloudy (2009)\n",
       " genres    Animation|Children|Comedy|Fantasy\n",
       " Name: 72356, dtype: object,\n",
       " title                                Zootopia (2016)\n",
       " genres    Action|Adventure|Animation|Children|Comedy\n",
       " Name: 152081, dtype: object,\n",
       " title       Toy Story Toons: Hawaiian Vacation (2011)\n",
       " genres    Adventure|Animation|Children|Comedy|Fantasy\n",
       " Name: 115875, dtype: object]"
      ]
     },
     "execution_count": 9,
     "metadata": {},
     "output_type": "execute_result"
    }
   ],
   "source": [
    "[movies.loc[x] for x in get_list( [ 1, 6377 ] )]"
   ]
  },
  {
   "cell_type": "code",
   "execution_count": 10,
   "id": "3ae18fac",
   "metadata": {
    "execution": {
     "iopub.execute_input": "2023-11-03T05:49:55.608901Z",
     "iopub.status.busy": "2023-11-03T05:49:55.608511Z",
     "iopub.status.idle": "2023-11-03T05:49:55.873535Z",
     "shell.execute_reply": "2023-11-03T05:49:55.872028Z"
    },
    "papermill": {
     "duration": 0.273181,
     "end_time": "2023-11-03T05:49:55.876107",
     "exception": false,
     "start_time": "2023-11-03T05:49:55.602926",
     "status": "completed"
    },
    "tags": []
   },
   "outputs": [],
   "source": [
    "import os, shutil\n",
    "os.remove( \"dataset.zip\" )\n",
    "shutil.rmtree( \"ml-latest\" )"
   ]
  }
 ],
 "metadata": {
  "kernelspec": {
   "display_name": "Python 3",
   "language": "python",
   "name": "python3"
  },
  "language_info": {
   "codemirror_mode": {
    "name": "ipython",
    "version": 3
   },
   "file_extension": ".py",
   "mimetype": "text/x-python",
   "name": "python",
   "nbconvert_exporter": "python",
   "pygments_lexer": "ipython3",
   "version": "3.10.12"
  },
  "papermill": {
   "default_parameters": {},
   "duration": 3072.179611,
   "end_time": "2023-11-03T05:49:59.307871",
   "environment_variables": {},
   "exception": null,
   "input_path": "__notebook__.ipynb",
   "output_path": "__notebook__.ipynb",
   "parameters": {},
   "start_time": "2023-11-03T04:58:47.128260",
   "version": "2.4.0"
  }
 },
 "nbformat": 4,
 "nbformat_minor": 5
}
